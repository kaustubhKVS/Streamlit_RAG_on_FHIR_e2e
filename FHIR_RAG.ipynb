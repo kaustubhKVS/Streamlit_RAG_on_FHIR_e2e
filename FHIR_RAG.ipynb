{
 "cells": [
  {
   "cell_type": "markdown",
   "id": "1ed96ff476fd1900",
   "metadata": {
    "collapsed": false
   },
   "source": [
    "# FHIR on RAG\n",
    "\n",
    "This notebook is loading FHIR resources into a vector store and then using that to help prompt an LLM to answer questions about the data. To do that, it first flattens the FHIR resources into text files. It then uses [LlamaIndex](https://www.llamaindex.ai/) to load the text files into an in-memory vector store. Then it calls out to a LLama 2 running locally using [Ollama](https://ollama.ai/) using different [strategies](https://docs.llamaindex.ai/en/stable/module_guides/querying/response_synthesizers/root.html) for combining the FHIR with the question into the prompt.\n"
   ]
  },
  {
   "cell_type": "code",
   "execution_count": 1,
   "id": "afcbc79e952c4890",
   "metadata": {
    "collapsed": false
   },
   "outputs": [],
   "source": [
    "# Some constants to use throughout \n",
    "\n",
    "in_file_glob = './working/raw_fhir/*.json'\n",
    "flat_file_path = './working/flat'\n",
    "vector_store_file_path = './working/vector_store'"
   ]
  },
  {
   "cell_type": "code",
   "execution_count": 2,
   "id": "fa810ccc",
   "metadata": {},
   "outputs": [],
   "source": [
    "# !mkdir -p ./working/vector_store\n",
    "# !mkdir -p ./working/flat\n",
    "# !mkdir -p ./working/raw_fhir"
   ]
  },
  {
   "cell_type": "code",
   "execution_count": 5,
   "id": "f08fcd8e",
   "metadata": {},
   "outputs": [],
   "source": [
    "# https://synthea.mitre.org/downloads\n",
    "# https://mitre.box.com/shared/static/ylzmiichhvtw1igr4ck6q32i5b333nqs.zip\n",
    "# https://synthetichealth.github.io/synthea-sample-data/downloads/latest/synthea_sample_data_fhir_latest.zip\n",
    "# unzip synthea_sample_data_fhir_latest.zip -d fhir_r4_latest\n",
    "# unzip synthea_sample_data_fhir_latest.zip -d fhir_r4_latest"
   ]
  },
  {
   "cell_type": "markdown",
   "id": "33b74f4239063888",
   "metadata": {
    "collapsed": false
   },
   "source": [
    "## Flatten FHIR\n",
    "\n",
    "This is going to read in any JSON files in the `in_file_glob`. It assumes that each file is a FHIR Bundle. It will first pull out the Patient resource and extract some key information, like name, from it to include in the text files it will create per resource. This helps the RAG know which patient a resource goes with. It then flattens each resource in the bundle.\n",
    "\n",
    "Flattening it means that it creates a path of all the attribute names from the root of the resource to each value. In the process it splits any camel case words into multiple words. Finally, it writes this out to a text file in the structure of:\n",
    "`[path name] is [value].`\n",
    "This creates a semi-english version of the resource that can be turned into a vector by the embedding.\n",
    "\n",
    "**To use this project,** you will need to create the working and raw_fhir directories and populate raw_fhir with FHIR Bundles. I used [Synthea](https://synthea.mitre.org/) to generate synthetic data in my testing.\n"
   ]
  },
  {
   "cell_type": "code",
   "execution_count": 7,
   "id": "6665eba975cf558",
   "metadata": {
    "collapsed": false
   },
   "outputs": [],
   "source": [
    "import glob\n",
    "import os\n",
    "import json\n",
    "import re\n",
    "\n",
    "camel_pattern1 = re.compile(r'(.)([A-Z][a-z]+)')\n",
    "camel_pattern2 = re.compile(r'([a-z0-9])([A-Z])')\n",
    "\n",
    "\n",
    "def split_camel(text):\n",
    "    new_text = camel_pattern1.sub(r'\\1 \\2', text)\n",
    "    new_text = camel_pattern2.sub(r'\\1 \\2', new_text)\n",
    "    return new_text\n",
    "\n",
    "\n",
    "def handle_special_attributes(attrib_name, value):\n",
    "    if attrib_name == 'resource Type':\n",
    "        return split_camel(value)\n",
    "    return value\n",
    "\n",
    "\n",
    "def flatten_fhir(nested_json):\n",
    "    out = {}\n",
    "\n",
    "    def flatten(json_to_flatten, name=''):\n",
    "        if type(json_to_flatten) is dict:\n",
    "            for sub_attribute in json_to_flatten:\n",
    "                flatten(json_to_flatten[sub_attribute], name + split_camel(sub_attribute) + ' ')\n",
    "        elif type(json_to_flatten) is list:\n",
    "            for i, sub_json in enumerate(json_to_flatten):\n",
    "                flatten(sub_json, name + str(i) + ' ')\n",
    "        else:\n",
    "            attrib_name = name[:-1]\n",
    "            out[attrib_name] = handle_special_attributes(attrib_name, json_to_flatten)\n",
    "\n",
    "    flatten(nested_json)\n",
    "    return out\n",
    "\n",
    "\n",
    "def filter_for_patient(entry):\n",
    "    return entry['resource']['resourceType'] == \"Patient\"\n",
    "\n",
    "\n",
    "def find_patient(bundle):\n",
    "    patients = list(filter(filter_for_patient, bundle['entry']))\n",
    "    if len(patients) < 1:\n",
    "        raise Exception('No Patient found in bundle!')\n",
    "    else:\n",
    "        patient = patients[0]['resource']\n",
    "\n",
    "        patient_id = patient['id']\n",
    "        first_name = patient['name'][0]['given'][0]\n",
    "        last_name = patient['name'][0]['family']\n",
    "\n",
    "        return {'PatientFirstName': first_name, 'PatientLastName': last_name, 'PatientID': patient_id}\n",
    "\n",
    "\n",
    "def flat_to_string(flat_entry):\n",
    "    output = ''\n",
    "\n",
    "    for attrib in flat_entry:\n",
    "        output += f'{attrib} is {flat_entry[attrib]}. '\n",
    "\n",
    "    return output\n",
    "\n",
    "\n",
    "def flatten_bundle(bundle_file_name):\n",
    "    file_name = bundle_file_name[bundle_file_name.rindex('/') + 1:bundle_file_name.rindex('.')]\n",
    "    with open(bundle_file_name) as raw:\n",
    "        bundle = json.load(raw)\n",
    "        patient = find_patient(bundle)\n",
    "        flat_patient = flatten_fhir(patient)\n",
    "        for i, entry in enumerate(bundle['entry']):\n",
    "            flat_entry = flatten_fhir(entry['resource'])\n",
    "            with open(f'{flat_file_path}/{file_name}_{i}.txt', 'w') as out_file:\n",
    "                out_file.write(f'{flat_to_string(flat_patient)}\\n{flat_to_string(flat_entry)}')\n",
    "\n",
    "\n",
    "if not os.path.exists(flat_file_path):\n",
    "    os.mkdir(flat_file_path)\n",
    "\n",
    "for file in glob.glob(in_file_glob):\n",
    "    flatten_bundle(file)"
   ]
  },
  {
   "cell_type": "markdown",
   "id": "f9af9519682334df",
   "metadata": {
    "collapsed": false
   },
   "source": [
    "## Setup the Gen AI with RAG\n",
    "\n",
    "This section will use LlamaIndex to construct the vector store and tie to the LLM.\n"
   ]
  },
  {
   "cell_type": "code",
   "execution_count": 9,
   "id": "initial_id",
   "metadata": {
    "collapsed": false
   },
   "outputs": [
    {
     "name": "stdout",
     "output_type": "stream",
     "text": [
      "Requirement already satisfied: llama-index in /home/kvshetenex/anaconda3/envs/streamlit_fhir_rag_e2e/lib/python3.10/site-packages (0.10.18)\n",
      "Requirement already satisfied: llama-index-agent-openai<0.2.0,>=0.1.4 in /home/kvshetenex/anaconda3/envs/streamlit_fhir_rag_e2e/lib/python3.10/site-packages (from llama-index) (0.1.5)\n",
      "Requirement already satisfied: llama-index-cli<0.2.0,>=0.1.2 in /home/kvshetenex/anaconda3/envs/streamlit_fhir_rag_e2e/lib/python3.10/site-packages (from llama-index) (0.1.8)\n",
      "Requirement already satisfied: llama-index-core<0.11.0,>=0.10.18 in /home/kvshetenex/anaconda3/envs/streamlit_fhir_rag_e2e/lib/python3.10/site-packages (from llama-index) (0.10.18.post1)\n",
      "Requirement already satisfied: llama-index-embeddings-openai<0.2.0,>=0.1.5 in /home/kvshetenex/anaconda3/envs/streamlit_fhir_rag_e2e/lib/python3.10/site-packages (from llama-index) (0.1.6)\n",
      "Requirement already satisfied: llama-index-indices-managed-llama-cloud<0.2.0,>=0.1.2 in /home/kvshetenex/anaconda3/envs/streamlit_fhir_rag_e2e/lib/python3.10/site-packages (from llama-index) (0.1.3)\n",
      "Requirement already satisfied: llama-index-legacy<0.10.0,>=0.9.48 in /home/kvshetenex/anaconda3/envs/streamlit_fhir_rag_e2e/lib/python3.10/site-packages (from llama-index) (0.9.48)\n",
      "Requirement already satisfied: llama-index-llms-openai<0.2.0,>=0.1.5 in /home/kvshetenex/anaconda3/envs/streamlit_fhir_rag_e2e/lib/python3.10/site-packages (from llama-index) (0.1.7)\n",
      "Requirement already satisfied: llama-index-multi-modal-llms-openai<0.2.0,>=0.1.3 in /home/kvshetenex/anaconda3/envs/streamlit_fhir_rag_e2e/lib/python3.10/site-packages (from llama-index) (0.1.4)\n",
      "Requirement already satisfied: llama-index-program-openai<0.2.0,>=0.1.3 in /home/kvshetenex/anaconda3/envs/streamlit_fhir_rag_e2e/lib/python3.10/site-packages (from llama-index) (0.1.4)\n",
      "Requirement already satisfied: llama-index-question-gen-openai<0.2.0,>=0.1.2 in /home/kvshetenex/anaconda3/envs/streamlit_fhir_rag_e2e/lib/python3.10/site-packages (from llama-index) (0.1.3)\n",
      "Requirement already satisfied: llama-index-readers-file<0.2.0,>=0.1.4 in /home/kvshetenex/anaconda3/envs/streamlit_fhir_rag_e2e/lib/python3.10/site-packages (from llama-index) (0.1.9)\n",
      "Requirement already satisfied: llama-index-readers-llama-parse<0.2.0,>=0.1.2 in /home/kvshetenex/anaconda3/envs/streamlit_fhir_rag_e2e/lib/python3.10/site-packages (from llama-index) (0.1.3)\n",
      "Requirement already satisfied: llama-index-vector-stores-chroma<0.2.0,>=0.1.1 in /home/kvshetenex/anaconda3/envs/streamlit_fhir_rag_e2e/lib/python3.10/site-packages (from llama-index-cli<0.2.0,>=0.1.2->llama-index) (0.1.6)\n",
      "Requirement already satisfied: PyYAML>=6.0.1 in /home/kvshetenex/anaconda3/envs/streamlit_fhir_rag_e2e/lib/python3.10/site-packages (from llama-index-core<0.11.0,>=0.10.18->llama-index) (6.0.1)\n",
      "Requirement already satisfied: SQLAlchemy>=1.4.49 in /home/kvshetenex/anaconda3/envs/streamlit_fhir_rag_e2e/lib/python3.10/site-packages (from SQLAlchemy[asyncio]>=1.4.49->llama-index-core<0.11.0,>=0.10.18->llama-index) (2.0.28)\n",
      "Requirement already satisfied: aiohttp<4.0.0,>=3.8.6 in /home/kvshetenex/anaconda3/envs/streamlit_fhir_rag_e2e/lib/python3.10/site-packages (from llama-index-core<0.11.0,>=0.10.18->llama-index) (3.9.3)\n",
      "Requirement already satisfied: dataclasses-json in /home/kvshetenex/anaconda3/envs/streamlit_fhir_rag_e2e/lib/python3.10/site-packages (from llama-index-core<0.11.0,>=0.10.18->llama-index) (0.6.4)\n",
      "Requirement already satisfied: deprecated>=1.2.9.3 in /home/kvshetenex/anaconda3/envs/streamlit_fhir_rag_e2e/lib/python3.10/site-packages (from llama-index-core<0.11.0,>=0.10.18->llama-index) (1.2.14)\n",
      "Requirement already satisfied: dirtyjson<2.0.0,>=1.0.8 in /home/kvshetenex/anaconda3/envs/streamlit_fhir_rag_e2e/lib/python3.10/site-packages (from llama-index-core<0.11.0,>=0.10.18->llama-index) (1.0.8)\n",
      "Requirement already satisfied: fsspec>=2023.5.0 in /home/kvshetenex/anaconda3/envs/streamlit_fhir_rag_e2e/lib/python3.10/site-packages (from llama-index-core<0.11.0,>=0.10.18->llama-index) (2024.2.0)\n",
      "Requirement already satisfied: httpx in /home/kvshetenex/anaconda3/envs/streamlit_fhir_rag_e2e/lib/python3.10/site-packages (from llama-index-core<0.11.0,>=0.10.18->llama-index) (0.27.0)\n",
      "Requirement already satisfied: llamaindex-py-client<0.2.0,>=0.1.13 in /home/kvshetenex/anaconda3/envs/streamlit_fhir_rag_e2e/lib/python3.10/site-packages (from llama-index-core<0.11.0,>=0.10.18->llama-index) (0.1.13)\n",
      "Requirement already satisfied: nest-asyncio<2.0.0,>=1.5.8 in /home/kvshetenex/anaconda3/envs/streamlit_fhir_rag_e2e/lib/python3.10/site-packages (from llama-index-core<0.11.0,>=0.10.18->llama-index) (1.6.0)\n",
      "Requirement already satisfied: networkx>=3.0 in /home/kvshetenex/anaconda3/envs/streamlit_fhir_rag_e2e/lib/python3.10/site-packages (from llama-index-core<0.11.0,>=0.10.18->llama-index) (3.2.1)\n",
      "Requirement already satisfied: nltk<4.0.0,>=3.8.1 in /home/kvshetenex/anaconda3/envs/streamlit_fhir_rag_e2e/lib/python3.10/site-packages (from llama-index-core<0.11.0,>=0.10.18->llama-index) (3.8.1)\n",
      "Requirement already satisfied: numpy in /home/kvshetenex/anaconda3/envs/streamlit_fhir_rag_e2e/lib/python3.10/site-packages (from llama-index-core<0.11.0,>=0.10.18->llama-index) (1.26.4)\n",
      "Requirement already satisfied: openai>=1.1.0 in /home/kvshetenex/anaconda3/envs/streamlit_fhir_rag_e2e/lib/python3.10/site-packages (from llama-index-core<0.11.0,>=0.10.18->llama-index) (1.13.3)\n",
      "Requirement already satisfied: pandas in /home/kvshetenex/anaconda3/envs/streamlit_fhir_rag_e2e/lib/python3.10/site-packages (from llama-index-core<0.11.0,>=0.10.18->llama-index) (2.2.1)\n",
      "Requirement already satisfied: pillow>=9.0.0 in /home/kvshetenex/anaconda3/envs/streamlit_fhir_rag_e2e/lib/python3.10/site-packages (from llama-index-core<0.11.0,>=0.10.18->llama-index) (10.2.0)\n",
      "Requirement already satisfied: requests>=2.31.0 in /home/kvshetenex/anaconda3/envs/streamlit_fhir_rag_e2e/lib/python3.10/site-packages (from llama-index-core<0.11.0,>=0.10.18->llama-index) (2.31.0)\n",
      "Requirement already satisfied: tenacity<9.0.0,>=8.2.0 in /home/kvshetenex/anaconda3/envs/streamlit_fhir_rag_e2e/lib/python3.10/site-packages (from llama-index-core<0.11.0,>=0.10.18->llama-index) (8.2.3)\n",
      "Requirement already satisfied: tiktoken>=0.3.3 in /home/kvshetenex/anaconda3/envs/streamlit_fhir_rag_e2e/lib/python3.10/site-packages (from llama-index-core<0.11.0,>=0.10.18->llama-index) (0.6.0)\n",
      "Requirement already satisfied: tqdm<5.0.0,>=4.66.1 in /home/kvshetenex/anaconda3/envs/streamlit_fhir_rag_e2e/lib/python3.10/site-packages (from llama-index-core<0.11.0,>=0.10.18->llama-index) (4.66.2)\n",
      "Requirement already satisfied: typing-extensions>=4.5.0 in /home/kvshetenex/anaconda3/envs/streamlit_fhir_rag_e2e/lib/python3.10/site-packages (from llama-index-core<0.11.0,>=0.10.18->llama-index) (4.10.0)\n",
      "Requirement already satisfied: typing-inspect>=0.8.0 in /home/kvshetenex/anaconda3/envs/streamlit_fhir_rag_e2e/lib/python3.10/site-packages (from llama-index-core<0.11.0,>=0.10.18->llama-index) (0.9.0)\n",
      "Requirement already satisfied: beautifulsoup4<5.0.0,>=4.12.3 in /home/kvshetenex/anaconda3/envs/streamlit_fhir_rag_e2e/lib/python3.10/site-packages (from llama-index-readers-file<0.2.0,>=0.1.4->llama-index) (4.12.3)\n",
      "Requirement already satisfied: bs4<0.0.3,>=0.0.2 in /home/kvshetenex/anaconda3/envs/streamlit_fhir_rag_e2e/lib/python3.10/site-packages (from llama-index-readers-file<0.2.0,>=0.1.4->llama-index) (0.0.2)\n",
      "Requirement already satisfied: pymupdf<2.0.0,>=1.23.21 in /home/kvshetenex/anaconda3/envs/streamlit_fhir_rag_e2e/lib/python3.10/site-packages (from llama-index-readers-file<0.2.0,>=0.1.4->llama-index) (1.23.26)\n",
      "Requirement already satisfied: pypdf<5.0.0,>=4.0.1 in /home/kvshetenex/anaconda3/envs/streamlit_fhir_rag_e2e/lib/python3.10/site-packages (from llama-index-readers-file<0.2.0,>=0.1.4->llama-index) (4.1.0)\n",
      "Requirement already satisfied: striprtf<0.0.27,>=0.0.26 in /home/kvshetenex/anaconda3/envs/streamlit_fhir_rag_e2e/lib/python3.10/site-packages (from llama-index-readers-file<0.2.0,>=0.1.4->llama-index) (0.0.26)\n",
      "Requirement already satisfied: llama-parse<0.4.0,>=0.3.3 in /home/kvshetenex/anaconda3/envs/streamlit_fhir_rag_e2e/lib/python3.10/site-packages (from llama-index-readers-llama-parse<0.2.0,>=0.1.2->llama-index) (0.3.8)\n",
      "Requirement already satisfied: aiosignal>=1.1.2 in /home/kvshetenex/anaconda3/envs/streamlit_fhir_rag_e2e/lib/python3.10/site-packages (from aiohttp<4.0.0,>=3.8.6->llama-index-core<0.11.0,>=0.10.18->llama-index) (1.3.1)\n",
      "Requirement already satisfied: attrs>=17.3.0 in /home/kvshetenex/anaconda3/envs/streamlit_fhir_rag_e2e/lib/python3.10/site-packages (from aiohttp<4.0.0,>=3.8.6->llama-index-core<0.11.0,>=0.10.18->llama-index) (23.2.0)\n",
      "Requirement already satisfied: frozenlist>=1.1.1 in /home/kvshetenex/anaconda3/envs/streamlit_fhir_rag_e2e/lib/python3.10/site-packages (from aiohttp<4.0.0,>=3.8.6->llama-index-core<0.11.0,>=0.10.18->llama-index) (1.4.1)\n",
      "Requirement already satisfied: multidict<7.0,>=4.5 in /home/kvshetenex/anaconda3/envs/streamlit_fhir_rag_e2e/lib/python3.10/site-packages (from aiohttp<4.0.0,>=3.8.6->llama-index-core<0.11.0,>=0.10.18->llama-index) (6.0.5)\n",
      "Requirement already satisfied: yarl<2.0,>=1.0 in /home/kvshetenex/anaconda3/envs/streamlit_fhir_rag_e2e/lib/python3.10/site-packages (from aiohttp<4.0.0,>=3.8.6->llama-index-core<0.11.0,>=0.10.18->llama-index) (1.9.4)\n",
      "Requirement already satisfied: async-timeout<5.0,>=4.0 in /home/kvshetenex/anaconda3/envs/streamlit_fhir_rag_e2e/lib/python3.10/site-packages (from aiohttp<4.0.0,>=3.8.6->llama-index-core<0.11.0,>=0.10.18->llama-index) (4.0.3)\n",
      "Requirement already satisfied: soupsieve>1.2 in /home/kvshetenex/anaconda3/envs/streamlit_fhir_rag_e2e/lib/python3.10/site-packages (from beautifulsoup4<5.0.0,>=4.12.3->llama-index-readers-file<0.2.0,>=0.1.4->llama-index) (2.5)\n",
      "Requirement already satisfied: wrapt<2,>=1.10 in /home/kvshetenex/anaconda3/envs/streamlit_fhir_rag_e2e/lib/python3.10/site-packages (from deprecated>=1.2.9.3->llama-index-core<0.11.0,>=0.10.18->llama-index) (1.16.0)\n",
      "Requirement already satisfied: chromadb<0.5.0,>=0.4.22 in /home/kvshetenex/anaconda3/envs/streamlit_fhir_rag_e2e/lib/python3.10/site-packages (from llama-index-vector-stores-chroma<0.2.0,>=0.1.1->llama-index-cli<0.2.0,>=0.1.2->llama-index) (0.4.24)\n",
      "Requirement already satisfied: pydantic>=1.10 in /home/kvshetenex/anaconda3/envs/streamlit_fhir_rag_e2e/lib/python3.10/site-packages (from llamaindex-py-client<0.2.0,>=0.1.13->llama-index-core<0.11.0,>=0.10.18->llama-index) (2.6.3)\n",
      "Requirement already satisfied: anyio in /home/kvshetenex/anaconda3/envs/streamlit_fhir_rag_e2e/lib/python3.10/site-packages (from httpx->llama-index-core<0.11.0,>=0.10.18->llama-index) (4.3.0)\n",
      "Requirement already satisfied: certifi in /home/kvshetenex/anaconda3/envs/streamlit_fhir_rag_e2e/lib/python3.10/site-packages (from httpx->llama-index-core<0.11.0,>=0.10.18->llama-index) (2024.2.2)\n",
      "Requirement already satisfied: httpcore==1.* in /home/kvshetenex/anaconda3/envs/streamlit_fhir_rag_e2e/lib/python3.10/site-packages (from httpx->llama-index-core<0.11.0,>=0.10.18->llama-index) (1.0.4)\n",
      "Requirement already satisfied: idna in /home/kvshetenex/anaconda3/envs/streamlit_fhir_rag_e2e/lib/python3.10/site-packages (from httpx->llama-index-core<0.11.0,>=0.10.18->llama-index) (3.6)\n",
      "Requirement already satisfied: sniffio in /home/kvshetenex/anaconda3/envs/streamlit_fhir_rag_e2e/lib/python3.10/site-packages (from httpx->llama-index-core<0.11.0,>=0.10.18->llama-index) (1.3.1)\n",
      "Requirement already satisfied: h11<0.15,>=0.13 in /home/kvshetenex/anaconda3/envs/streamlit_fhir_rag_e2e/lib/python3.10/site-packages (from httpcore==1.*->httpx->llama-index-core<0.11.0,>=0.10.18->llama-index) (0.14.0)\n",
      "Requirement already satisfied: click in /home/kvshetenex/anaconda3/envs/streamlit_fhir_rag_e2e/lib/python3.10/site-packages (from nltk<4.0.0,>=3.8.1->llama-index-core<0.11.0,>=0.10.18->llama-index) (8.1.7)\n",
      "Requirement already satisfied: joblib in /home/kvshetenex/anaconda3/envs/streamlit_fhir_rag_e2e/lib/python3.10/site-packages (from nltk<4.0.0,>=3.8.1->llama-index-core<0.11.0,>=0.10.18->llama-index) (1.3.2)\n",
      "Requirement already satisfied: regex>=2021.8.3 in /home/kvshetenex/anaconda3/envs/streamlit_fhir_rag_e2e/lib/python3.10/site-packages (from nltk<4.0.0,>=3.8.1->llama-index-core<0.11.0,>=0.10.18->llama-index) (2023.12.25)\n",
      "Requirement already satisfied: distro<2,>=1.7.0 in /home/kvshetenex/anaconda3/envs/streamlit_fhir_rag_e2e/lib/python3.10/site-packages (from openai>=1.1.0->llama-index-core<0.11.0,>=0.10.18->llama-index) (1.9.0)\n",
      "Requirement already satisfied: PyMuPDFb==1.23.22 in /home/kvshetenex/anaconda3/envs/streamlit_fhir_rag_e2e/lib/python3.10/site-packages (from pymupdf<2.0.0,>=1.23.21->llama-index-readers-file<0.2.0,>=0.1.4->llama-index) (1.23.22)\n",
      "Requirement already satisfied: charset-normalizer<4,>=2 in /home/kvshetenex/anaconda3/envs/streamlit_fhir_rag_e2e/lib/python3.10/site-packages (from requests>=2.31.0->llama-index-core<0.11.0,>=0.10.18->llama-index) (3.3.2)\n",
      "Requirement already satisfied: urllib3<3,>=1.21.1 in /home/kvshetenex/anaconda3/envs/streamlit_fhir_rag_e2e/lib/python3.10/site-packages (from requests>=2.31.0->llama-index-core<0.11.0,>=0.10.18->llama-index) (2.2.1)\n",
      "Requirement already satisfied: greenlet!=0.4.17 in /home/kvshetenex/anaconda3/envs/streamlit_fhir_rag_e2e/lib/python3.10/site-packages (from SQLAlchemy>=1.4.49->SQLAlchemy[asyncio]>=1.4.49->llama-index-core<0.11.0,>=0.10.18->llama-index) (3.0.3)\n",
      "Requirement already satisfied: mypy-extensions>=0.3.0 in /home/kvshetenex/anaconda3/envs/streamlit_fhir_rag_e2e/lib/python3.10/site-packages (from typing-inspect>=0.8.0->llama-index-core<0.11.0,>=0.10.18->llama-index) (1.0.0)\n",
      "Requirement already satisfied: marshmallow<4.0.0,>=3.18.0 in /home/kvshetenex/anaconda3/envs/streamlit_fhir_rag_e2e/lib/python3.10/site-packages (from dataclasses-json->llama-index-core<0.11.0,>=0.10.18->llama-index) (3.21.1)\n",
      "Requirement already satisfied: python-dateutil>=2.8.2 in /home/kvshetenex/anaconda3/envs/streamlit_fhir_rag_e2e/lib/python3.10/site-packages (from pandas->llama-index-core<0.11.0,>=0.10.18->llama-index) (2.9.0)\n",
      "Requirement already satisfied: pytz>=2020.1 in /home/kvshetenex/anaconda3/envs/streamlit_fhir_rag_e2e/lib/python3.10/site-packages (from pandas->llama-index-core<0.11.0,>=0.10.18->llama-index) (2024.1)\n",
      "Requirement already satisfied: tzdata>=2022.7 in /home/kvshetenex/anaconda3/envs/streamlit_fhir_rag_e2e/lib/python3.10/site-packages (from pandas->llama-index-core<0.11.0,>=0.10.18->llama-index) (2024.1)\n",
      "Requirement already satisfied: exceptiongroup>=1.0.2 in /home/kvshetenex/anaconda3/envs/streamlit_fhir_rag_e2e/lib/python3.10/site-packages (from anyio->httpx->llama-index-core<0.11.0,>=0.10.18->llama-index) (1.2.0)\n",
      "Requirement already satisfied: build>=1.0.3 in /home/kvshetenex/anaconda3/envs/streamlit_fhir_rag_e2e/lib/python3.10/site-packages (from chromadb<0.5.0,>=0.4.22->llama-index-vector-stores-chroma<0.2.0,>=0.1.1->llama-index-cli<0.2.0,>=0.1.2->llama-index) (1.1.1)\n",
      "Requirement already satisfied: chroma-hnswlib==0.7.3 in /home/kvshetenex/anaconda3/envs/streamlit_fhir_rag_e2e/lib/python3.10/site-packages (from chromadb<0.5.0,>=0.4.22->llama-index-vector-stores-chroma<0.2.0,>=0.1.1->llama-index-cli<0.2.0,>=0.1.2->llama-index) (0.7.3)\n",
      "Requirement already satisfied: fastapi>=0.95.2 in /home/kvshetenex/anaconda3/envs/streamlit_fhir_rag_e2e/lib/python3.10/site-packages (from chromadb<0.5.0,>=0.4.22->llama-index-vector-stores-chroma<0.2.0,>=0.1.1->llama-index-cli<0.2.0,>=0.1.2->llama-index) (0.110.0)\n",
      "Requirement already satisfied: uvicorn>=0.18.3 in /home/kvshetenex/anaconda3/envs/streamlit_fhir_rag_e2e/lib/python3.10/site-packages (from uvicorn[standard]>=0.18.3->chromadb<0.5.0,>=0.4.22->llama-index-vector-stores-chroma<0.2.0,>=0.1.1->llama-index-cli<0.2.0,>=0.1.2->llama-index) (0.28.0)\n",
      "Requirement already satisfied: posthog>=2.4.0 in /home/kvshetenex/anaconda3/envs/streamlit_fhir_rag_e2e/lib/python3.10/site-packages (from chromadb<0.5.0,>=0.4.22->llama-index-vector-stores-chroma<0.2.0,>=0.1.1->llama-index-cli<0.2.0,>=0.1.2->llama-index) (3.5.0)\n",
      "Requirement already satisfied: pulsar-client>=3.1.0 in /home/kvshetenex/anaconda3/envs/streamlit_fhir_rag_e2e/lib/python3.10/site-packages (from chromadb<0.5.0,>=0.4.22->llama-index-vector-stores-chroma<0.2.0,>=0.1.1->llama-index-cli<0.2.0,>=0.1.2->llama-index) (3.4.0)\n",
      "Requirement already satisfied: onnxruntime>=1.14.1 in /home/kvshetenex/anaconda3/envs/streamlit_fhir_rag_e2e/lib/python3.10/site-packages (from chromadb<0.5.0,>=0.4.22->llama-index-vector-stores-chroma<0.2.0,>=0.1.1->llama-index-cli<0.2.0,>=0.1.2->llama-index) (1.17.1)\n",
      "Requirement already satisfied: opentelemetry-api>=1.2.0 in /home/kvshetenex/anaconda3/envs/streamlit_fhir_rag_e2e/lib/python3.10/site-packages (from chromadb<0.5.0,>=0.4.22->llama-index-vector-stores-chroma<0.2.0,>=0.1.1->llama-index-cli<0.2.0,>=0.1.2->llama-index) (1.23.0)\n",
      "Requirement already satisfied: opentelemetry-exporter-otlp-proto-grpc>=1.2.0 in /home/kvshetenex/anaconda3/envs/streamlit_fhir_rag_e2e/lib/python3.10/site-packages (from chromadb<0.5.0,>=0.4.22->llama-index-vector-stores-chroma<0.2.0,>=0.1.1->llama-index-cli<0.2.0,>=0.1.2->llama-index) (1.23.0)\n",
      "Requirement already satisfied: opentelemetry-instrumentation-fastapi>=0.41b0 in /home/kvshetenex/anaconda3/envs/streamlit_fhir_rag_e2e/lib/python3.10/site-packages (from chromadb<0.5.0,>=0.4.22->llama-index-vector-stores-chroma<0.2.0,>=0.1.1->llama-index-cli<0.2.0,>=0.1.2->llama-index) (0.44b0)\n",
      "Requirement already satisfied: opentelemetry-sdk>=1.2.0 in /home/kvshetenex/anaconda3/envs/streamlit_fhir_rag_e2e/lib/python3.10/site-packages (from chromadb<0.5.0,>=0.4.22->llama-index-vector-stores-chroma<0.2.0,>=0.1.1->llama-index-cli<0.2.0,>=0.1.2->llama-index) (1.23.0)\n",
      "Requirement already satisfied: tokenizers>=0.13.2 in /home/kvshetenex/anaconda3/envs/streamlit_fhir_rag_e2e/lib/python3.10/site-packages (from chromadb<0.5.0,>=0.4.22->llama-index-vector-stores-chroma<0.2.0,>=0.1.1->llama-index-cli<0.2.0,>=0.1.2->llama-index) (0.15.2)\n",
      "Requirement already satisfied: pypika>=0.48.9 in /home/kvshetenex/anaconda3/envs/streamlit_fhir_rag_e2e/lib/python3.10/site-packages (from chromadb<0.5.0,>=0.4.22->llama-index-vector-stores-chroma<0.2.0,>=0.1.1->llama-index-cli<0.2.0,>=0.1.2->llama-index) (0.48.9)\n",
      "Requirement already satisfied: overrides>=7.3.1 in /home/kvshetenex/anaconda3/envs/streamlit_fhir_rag_e2e/lib/python3.10/site-packages (from chromadb<0.5.0,>=0.4.22->llama-index-vector-stores-chroma<0.2.0,>=0.1.1->llama-index-cli<0.2.0,>=0.1.2->llama-index) (7.7.0)\n",
      "Requirement already satisfied: importlib-resources in /home/kvshetenex/anaconda3/envs/streamlit_fhir_rag_e2e/lib/python3.10/site-packages (from chromadb<0.5.0,>=0.4.22->llama-index-vector-stores-chroma<0.2.0,>=0.1.1->llama-index-cli<0.2.0,>=0.1.2->llama-index) (6.1.3)\n",
      "Requirement already satisfied: grpcio>=1.58.0 in /home/kvshetenex/anaconda3/envs/streamlit_fhir_rag_e2e/lib/python3.10/site-packages (from chromadb<0.5.0,>=0.4.22->llama-index-vector-stores-chroma<0.2.0,>=0.1.1->llama-index-cli<0.2.0,>=0.1.2->llama-index) (1.62.1)\n",
      "Requirement already satisfied: bcrypt>=4.0.1 in /home/kvshetenex/anaconda3/envs/streamlit_fhir_rag_e2e/lib/python3.10/site-packages (from chromadb<0.5.0,>=0.4.22->llama-index-vector-stores-chroma<0.2.0,>=0.1.1->llama-index-cli<0.2.0,>=0.1.2->llama-index) (4.1.2)\n",
      "Requirement already satisfied: typer>=0.9.0 in /home/kvshetenex/anaconda3/envs/streamlit_fhir_rag_e2e/lib/python3.10/site-packages (from chromadb<0.5.0,>=0.4.22->llama-index-vector-stores-chroma<0.2.0,>=0.1.1->llama-index-cli<0.2.0,>=0.1.2->llama-index) (0.9.0)\n",
      "Requirement already satisfied: kubernetes>=28.1.0 in /home/kvshetenex/anaconda3/envs/streamlit_fhir_rag_e2e/lib/python3.10/site-packages (from chromadb<0.5.0,>=0.4.22->llama-index-vector-stores-chroma<0.2.0,>=0.1.1->llama-index-cli<0.2.0,>=0.1.2->llama-index) (29.0.0)\n",
      "Requirement already satisfied: mmh3>=4.0.1 in /home/kvshetenex/anaconda3/envs/streamlit_fhir_rag_e2e/lib/python3.10/site-packages (from chromadb<0.5.0,>=0.4.22->llama-index-vector-stores-chroma<0.2.0,>=0.1.1->llama-index-cli<0.2.0,>=0.1.2->llama-index) (4.1.0)\n",
      "Requirement already satisfied: orjson>=3.9.12 in /home/kvshetenex/anaconda3/envs/streamlit_fhir_rag_e2e/lib/python3.10/site-packages (from chromadb<0.5.0,>=0.4.22->llama-index-vector-stores-chroma<0.2.0,>=0.1.1->llama-index-cli<0.2.0,>=0.1.2->llama-index) (3.9.15)\n",
      "Requirement already satisfied: packaging>=17.0 in /home/kvshetenex/anaconda3/envs/streamlit_fhir_rag_e2e/lib/python3.10/site-packages (from marshmallow<4.0.0,>=3.18.0->dataclasses-json->llama-index-core<0.11.0,>=0.10.18->llama-index) (24.0)\n",
      "Requirement already satisfied: annotated-types>=0.4.0 in /home/kvshetenex/anaconda3/envs/streamlit_fhir_rag_e2e/lib/python3.10/site-packages (from pydantic>=1.10->llamaindex-py-client<0.2.0,>=0.1.13->llama-index-core<0.11.0,>=0.10.18->llama-index) (0.6.0)\n",
      "Requirement already satisfied: pydantic-core==2.16.3 in /home/kvshetenex/anaconda3/envs/streamlit_fhir_rag_e2e/lib/python3.10/site-packages (from pydantic>=1.10->llamaindex-py-client<0.2.0,>=0.1.13->llama-index-core<0.11.0,>=0.10.18->llama-index) (2.16.3)\n",
      "Requirement already satisfied: six>=1.5 in /home/kvshetenex/anaconda3/envs/streamlit_fhir_rag_e2e/lib/python3.10/site-packages (from python-dateutil>=2.8.2->pandas->llama-index-core<0.11.0,>=0.10.18->llama-index) (1.16.0)\n",
      "Requirement already satisfied: pyproject_hooks in /home/kvshetenex/anaconda3/envs/streamlit_fhir_rag_e2e/lib/python3.10/site-packages (from build>=1.0.3->chromadb<0.5.0,>=0.4.22->llama-index-vector-stores-chroma<0.2.0,>=0.1.1->llama-index-cli<0.2.0,>=0.1.2->llama-index) (1.0.0)\n",
      "Requirement already satisfied: tomli>=1.1.0 in /home/kvshetenex/anaconda3/envs/streamlit_fhir_rag_e2e/lib/python3.10/site-packages (from build>=1.0.3->chromadb<0.5.0,>=0.4.22->llama-index-vector-stores-chroma<0.2.0,>=0.1.1->llama-index-cli<0.2.0,>=0.1.2->llama-index) (2.0.1)\n",
      "Requirement already satisfied: starlette<0.37.0,>=0.36.3 in /home/kvshetenex/anaconda3/envs/streamlit_fhir_rag_e2e/lib/python3.10/site-packages (from fastapi>=0.95.2->chromadb<0.5.0,>=0.4.22->llama-index-vector-stores-chroma<0.2.0,>=0.1.1->llama-index-cli<0.2.0,>=0.1.2->llama-index) (0.36.3)\n",
      "Requirement already satisfied: google-auth>=1.0.1 in /home/kvshetenex/anaconda3/envs/streamlit_fhir_rag_e2e/lib/python3.10/site-packages (from kubernetes>=28.1.0->chromadb<0.5.0,>=0.4.22->llama-index-vector-stores-chroma<0.2.0,>=0.1.1->llama-index-cli<0.2.0,>=0.1.2->llama-index) (2.28.2)\n",
      "Requirement already satisfied: websocket-client!=0.40.0,!=0.41.*,!=0.42.*,>=0.32.0 in /home/kvshetenex/anaconda3/envs/streamlit_fhir_rag_e2e/lib/python3.10/site-packages (from kubernetes>=28.1.0->chromadb<0.5.0,>=0.4.22->llama-index-vector-stores-chroma<0.2.0,>=0.1.1->llama-index-cli<0.2.0,>=0.1.2->llama-index) (1.7.0)\n",
      "Requirement already satisfied: requests-oauthlib in /home/kvshetenex/anaconda3/envs/streamlit_fhir_rag_e2e/lib/python3.10/site-packages (from kubernetes>=28.1.0->chromadb<0.5.0,>=0.4.22->llama-index-vector-stores-chroma<0.2.0,>=0.1.1->llama-index-cli<0.2.0,>=0.1.2->llama-index) (1.4.0)\n",
      "Requirement already satisfied: oauthlib>=3.2.2 in /home/kvshetenex/anaconda3/envs/streamlit_fhir_rag_e2e/lib/python3.10/site-packages (from kubernetes>=28.1.0->chromadb<0.5.0,>=0.4.22->llama-index-vector-stores-chroma<0.2.0,>=0.1.1->llama-index-cli<0.2.0,>=0.1.2->llama-index) (3.2.2)\n",
      "Requirement already satisfied: coloredlogs in /home/kvshetenex/anaconda3/envs/streamlit_fhir_rag_e2e/lib/python3.10/site-packages (from onnxruntime>=1.14.1->chromadb<0.5.0,>=0.4.22->llama-index-vector-stores-chroma<0.2.0,>=0.1.1->llama-index-cli<0.2.0,>=0.1.2->llama-index) (15.0.1)\n",
      "Requirement already satisfied: flatbuffers in /home/kvshetenex/anaconda3/envs/streamlit_fhir_rag_e2e/lib/python3.10/site-packages (from onnxruntime>=1.14.1->chromadb<0.5.0,>=0.4.22->llama-index-vector-stores-chroma<0.2.0,>=0.1.1->llama-index-cli<0.2.0,>=0.1.2->llama-index) (24.3.7)\n",
      "Requirement already satisfied: protobuf in /home/kvshetenex/anaconda3/envs/streamlit_fhir_rag_e2e/lib/python3.10/site-packages (from onnxruntime>=1.14.1->chromadb<0.5.0,>=0.4.22->llama-index-vector-stores-chroma<0.2.0,>=0.1.1->llama-index-cli<0.2.0,>=0.1.2->llama-index) (4.25.3)\n",
      "Requirement already satisfied: sympy in /home/kvshetenex/anaconda3/envs/streamlit_fhir_rag_e2e/lib/python3.10/site-packages (from onnxruntime>=1.14.1->chromadb<0.5.0,>=0.4.22->llama-index-vector-stores-chroma<0.2.0,>=0.1.1->llama-index-cli<0.2.0,>=0.1.2->llama-index) (1.12)\n",
      "Requirement already satisfied: importlib-metadata<7.0,>=6.0 in /home/kvshetenex/anaconda3/envs/streamlit_fhir_rag_e2e/lib/python3.10/site-packages (from opentelemetry-api>=1.2.0->chromadb<0.5.0,>=0.4.22->llama-index-vector-stores-chroma<0.2.0,>=0.1.1->llama-index-cli<0.2.0,>=0.1.2->llama-index) (6.11.0)\n",
      "Requirement already satisfied: googleapis-common-protos~=1.52 in /home/kvshetenex/anaconda3/envs/streamlit_fhir_rag_e2e/lib/python3.10/site-packages (from opentelemetry-exporter-otlp-proto-grpc>=1.2.0->chromadb<0.5.0,>=0.4.22->llama-index-vector-stores-chroma<0.2.0,>=0.1.1->llama-index-cli<0.2.0,>=0.1.2->llama-index) (1.62.0)\n",
      "Requirement already satisfied: opentelemetry-exporter-otlp-proto-common==1.23.0 in /home/kvshetenex/anaconda3/envs/streamlit_fhir_rag_e2e/lib/python3.10/site-packages (from opentelemetry-exporter-otlp-proto-grpc>=1.2.0->chromadb<0.5.0,>=0.4.22->llama-index-vector-stores-chroma<0.2.0,>=0.1.1->llama-index-cli<0.2.0,>=0.1.2->llama-index) (1.23.0)\n",
      "Requirement already satisfied: opentelemetry-proto==1.23.0 in /home/kvshetenex/anaconda3/envs/streamlit_fhir_rag_e2e/lib/python3.10/site-packages (from opentelemetry-exporter-otlp-proto-grpc>=1.2.0->chromadb<0.5.0,>=0.4.22->llama-index-vector-stores-chroma<0.2.0,>=0.1.1->llama-index-cli<0.2.0,>=0.1.2->llama-index) (1.23.0)\n",
      "Requirement already satisfied: opentelemetry-instrumentation-asgi==0.44b0 in /home/kvshetenex/anaconda3/envs/streamlit_fhir_rag_e2e/lib/python3.10/site-packages (from opentelemetry-instrumentation-fastapi>=0.41b0->chromadb<0.5.0,>=0.4.22->llama-index-vector-stores-chroma<0.2.0,>=0.1.1->llama-index-cli<0.2.0,>=0.1.2->llama-index) (0.44b0)\n",
      "Requirement already satisfied: opentelemetry-instrumentation==0.44b0 in /home/kvshetenex/anaconda3/envs/streamlit_fhir_rag_e2e/lib/python3.10/site-packages (from opentelemetry-instrumentation-fastapi>=0.41b0->chromadb<0.5.0,>=0.4.22->llama-index-vector-stores-chroma<0.2.0,>=0.1.1->llama-index-cli<0.2.0,>=0.1.2->llama-index) (0.44b0)\n",
      "Requirement already satisfied: opentelemetry-semantic-conventions==0.44b0 in /home/kvshetenex/anaconda3/envs/streamlit_fhir_rag_e2e/lib/python3.10/site-packages (from opentelemetry-instrumentation-fastapi>=0.41b0->chromadb<0.5.0,>=0.4.22->llama-index-vector-stores-chroma<0.2.0,>=0.1.1->llama-index-cli<0.2.0,>=0.1.2->llama-index) (0.44b0)\n",
      "Requirement already satisfied: opentelemetry-util-http==0.44b0 in /home/kvshetenex/anaconda3/envs/streamlit_fhir_rag_e2e/lib/python3.10/site-packages (from opentelemetry-instrumentation-fastapi>=0.41b0->chromadb<0.5.0,>=0.4.22->llama-index-vector-stores-chroma<0.2.0,>=0.1.1->llama-index-cli<0.2.0,>=0.1.2->llama-index) (0.44b0)\n",
      "Requirement already satisfied: setuptools>=16.0 in /home/kvshetenex/anaconda3/envs/streamlit_fhir_rag_e2e/lib/python3.10/site-packages (from opentelemetry-instrumentation==0.44b0->opentelemetry-instrumentation-fastapi>=0.41b0->chromadb<0.5.0,>=0.4.22->llama-index-vector-stores-chroma<0.2.0,>=0.1.1->llama-index-cli<0.2.0,>=0.1.2->llama-index) (68.2.2)\n",
      "Requirement already satisfied: asgiref~=3.0 in /home/kvshetenex/anaconda3/envs/streamlit_fhir_rag_e2e/lib/python3.10/site-packages (from opentelemetry-instrumentation-asgi==0.44b0->opentelemetry-instrumentation-fastapi>=0.41b0->chromadb<0.5.0,>=0.4.22->llama-index-vector-stores-chroma<0.2.0,>=0.1.1->llama-index-cli<0.2.0,>=0.1.2->llama-index) (3.7.2)\n",
      "Requirement already satisfied: monotonic>=1.5 in /home/kvshetenex/anaconda3/envs/streamlit_fhir_rag_e2e/lib/python3.10/site-packages (from posthog>=2.4.0->chromadb<0.5.0,>=0.4.22->llama-index-vector-stores-chroma<0.2.0,>=0.1.1->llama-index-cli<0.2.0,>=0.1.2->llama-index) (1.6)\n",
      "Requirement already satisfied: backoff>=1.10.0 in /home/kvshetenex/anaconda3/envs/streamlit_fhir_rag_e2e/lib/python3.10/site-packages (from posthog>=2.4.0->chromadb<0.5.0,>=0.4.22->llama-index-vector-stores-chroma<0.2.0,>=0.1.1->llama-index-cli<0.2.0,>=0.1.2->llama-index) (2.2.1)\n",
      "Requirement already satisfied: huggingface_hub<1.0,>=0.16.4 in /home/kvshetenex/anaconda3/envs/streamlit_fhir_rag_e2e/lib/python3.10/site-packages (from tokenizers>=0.13.2->chromadb<0.5.0,>=0.4.22->llama-index-vector-stores-chroma<0.2.0,>=0.1.1->llama-index-cli<0.2.0,>=0.1.2->llama-index) (0.21.4)\n",
      "Requirement already satisfied: httptools>=0.5.0 in /home/kvshetenex/anaconda3/envs/streamlit_fhir_rag_e2e/lib/python3.10/site-packages (from uvicorn[standard]>=0.18.3->chromadb<0.5.0,>=0.4.22->llama-index-vector-stores-chroma<0.2.0,>=0.1.1->llama-index-cli<0.2.0,>=0.1.2->llama-index) (0.6.1)\n",
      "Requirement already satisfied: python-dotenv>=0.13 in /home/kvshetenex/anaconda3/envs/streamlit_fhir_rag_e2e/lib/python3.10/site-packages (from uvicorn[standard]>=0.18.3->chromadb<0.5.0,>=0.4.22->llama-index-vector-stores-chroma<0.2.0,>=0.1.1->llama-index-cli<0.2.0,>=0.1.2->llama-index) (1.0.1)\n",
      "Requirement already satisfied: uvloop!=0.15.0,!=0.15.1,>=0.14.0 in /home/kvshetenex/anaconda3/envs/streamlit_fhir_rag_e2e/lib/python3.10/site-packages (from uvicorn[standard]>=0.18.3->chromadb<0.5.0,>=0.4.22->llama-index-vector-stores-chroma<0.2.0,>=0.1.1->llama-index-cli<0.2.0,>=0.1.2->llama-index) (0.19.0)\n",
      "Requirement already satisfied: watchfiles>=0.13 in /home/kvshetenex/anaconda3/envs/streamlit_fhir_rag_e2e/lib/python3.10/site-packages (from uvicorn[standard]>=0.18.3->chromadb<0.5.0,>=0.4.22->llama-index-vector-stores-chroma<0.2.0,>=0.1.1->llama-index-cli<0.2.0,>=0.1.2->llama-index) (0.21.0)\n",
      "Requirement already satisfied: websockets>=10.4 in /home/kvshetenex/anaconda3/envs/streamlit_fhir_rag_e2e/lib/python3.10/site-packages (from uvicorn[standard]>=0.18.3->chromadb<0.5.0,>=0.4.22->llama-index-vector-stores-chroma<0.2.0,>=0.1.1->llama-index-cli<0.2.0,>=0.1.2->llama-index) (12.0)\n",
      "Requirement already satisfied: cachetools<6.0,>=2.0.0 in /home/kvshetenex/anaconda3/envs/streamlit_fhir_rag_e2e/lib/python3.10/site-packages (from google-auth>=1.0.1->kubernetes>=28.1.0->chromadb<0.5.0,>=0.4.22->llama-index-vector-stores-chroma<0.2.0,>=0.1.1->llama-index-cli<0.2.0,>=0.1.2->llama-index) (5.3.3)\n",
      "Requirement already satisfied: pyasn1-modules>=0.2.1 in /home/kvshetenex/anaconda3/envs/streamlit_fhir_rag_e2e/lib/python3.10/site-packages (from google-auth>=1.0.1->kubernetes>=28.1.0->chromadb<0.5.0,>=0.4.22->llama-index-vector-stores-chroma<0.2.0,>=0.1.1->llama-index-cli<0.2.0,>=0.1.2->llama-index) (0.3.0)\n",
      "Requirement already satisfied: rsa<5,>=3.1.4 in /home/kvshetenex/anaconda3/envs/streamlit_fhir_rag_e2e/lib/python3.10/site-packages (from google-auth>=1.0.1->kubernetes>=28.1.0->chromadb<0.5.0,>=0.4.22->llama-index-vector-stores-chroma<0.2.0,>=0.1.1->llama-index-cli<0.2.0,>=0.1.2->llama-index) (4.9)\n",
      "Requirement already satisfied: filelock in /home/kvshetenex/anaconda3/envs/streamlit_fhir_rag_e2e/lib/python3.10/site-packages (from huggingface_hub<1.0,>=0.16.4->tokenizers>=0.13.2->chromadb<0.5.0,>=0.4.22->llama-index-vector-stores-chroma<0.2.0,>=0.1.1->llama-index-cli<0.2.0,>=0.1.2->llama-index) (3.13.1)\n",
      "Requirement already satisfied: zipp>=0.5 in /home/kvshetenex/anaconda3/envs/streamlit_fhir_rag_e2e/lib/python3.10/site-packages (from importlib-metadata<7.0,>=6.0->opentelemetry-api>=1.2.0->chromadb<0.5.0,>=0.4.22->llama-index-vector-stores-chroma<0.2.0,>=0.1.1->llama-index-cli<0.2.0,>=0.1.2->llama-index) (3.17.0)\n",
      "Requirement already satisfied: humanfriendly>=9.1 in /home/kvshetenex/anaconda3/envs/streamlit_fhir_rag_e2e/lib/python3.10/site-packages (from coloredlogs->onnxruntime>=1.14.1->chromadb<0.5.0,>=0.4.22->llama-index-vector-stores-chroma<0.2.0,>=0.1.1->llama-index-cli<0.2.0,>=0.1.2->llama-index) (10.0)\n",
      "Requirement already satisfied: mpmath>=0.19 in /home/kvshetenex/anaconda3/envs/streamlit_fhir_rag_e2e/lib/python3.10/site-packages (from sympy->onnxruntime>=1.14.1->chromadb<0.5.0,>=0.4.22->llama-index-vector-stores-chroma<0.2.0,>=0.1.1->llama-index-cli<0.2.0,>=0.1.2->llama-index) (1.3.0)\n",
      "Requirement already satisfied: pyasn1<0.6.0,>=0.4.6 in /home/kvshetenex/anaconda3/envs/streamlit_fhir_rag_e2e/lib/python3.10/site-packages (from pyasn1-modules>=0.2.1->google-auth>=1.0.1->kubernetes>=28.1.0->chromadb<0.5.0,>=0.4.22->llama-index-vector-stores-chroma<0.2.0,>=0.1.1->llama-index-cli<0.2.0,>=0.1.2->llama-index) (0.5.1)\n",
      "Requirement already satisfied: transformers in /home/kvshetenex/anaconda3/envs/streamlit_fhir_rag_e2e/lib/python3.10/site-packages (4.38.2)\n",
      "Requirement already satisfied: filelock in /home/kvshetenex/anaconda3/envs/streamlit_fhir_rag_e2e/lib/python3.10/site-packages (from transformers) (3.13.1)\n",
      "Requirement already satisfied: huggingface-hub<1.0,>=0.19.3 in /home/kvshetenex/anaconda3/envs/streamlit_fhir_rag_e2e/lib/python3.10/site-packages (from transformers) (0.21.4)\n",
      "Requirement already satisfied: numpy>=1.17 in /home/kvshetenex/anaconda3/envs/streamlit_fhir_rag_e2e/lib/python3.10/site-packages (from transformers) (1.26.4)\n",
      "Requirement already satisfied: packaging>=20.0 in /home/kvshetenex/anaconda3/envs/streamlit_fhir_rag_e2e/lib/python3.10/site-packages (from transformers) (24.0)\n",
      "Requirement already satisfied: pyyaml>=5.1 in /home/kvshetenex/anaconda3/envs/streamlit_fhir_rag_e2e/lib/python3.10/site-packages (from transformers) (6.0.1)\n",
      "Requirement already satisfied: regex!=2019.12.17 in /home/kvshetenex/anaconda3/envs/streamlit_fhir_rag_e2e/lib/python3.10/site-packages (from transformers) (2023.12.25)\n",
      "Requirement already satisfied: requests in /home/kvshetenex/anaconda3/envs/streamlit_fhir_rag_e2e/lib/python3.10/site-packages (from transformers) (2.31.0)\n",
      "Requirement already satisfied: tokenizers<0.19,>=0.14 in /home/kvshetenex/anaconda3/envs/streamlit_fhir_rag_e2e/lib/python3.10/site-packages (from transformers) (0.15.2)\n",
      "Requirement already satisfied: safetensors>=0.4.1 in /home/kvshetenex/anaconda3/envs/streamlit_fhir_rag_e2e/lib/python3.10/site-packages (from transformers) (0.4.2)\n",
      "Requirement already satisfied: tqdm>=4.27 in /home/kvshetenex/anaconda3/envs/streamlit_fhir_rag_e2e/lib/python3.10/site-packages (from transformers) (4.66.2)\n",
      "Requirement already satisfied: fsspec>=2023.5.0 in /home/kvshetenex/anaconda3/envs/streamlit_fhir_rag_e2e/lib/python3.10/site-packages (from huggingface-hub<1.0,>=0.19.3->transformers) (2024.2.0)\n",
      "Requirement already satisfied: typing-extensions>=3.7.4.3 in /home/kvshetenex/anaconda3/envs/streamlit_fhir_rag_e2e/lib/python3.10/site-packages (from huggingface-hub<1.0,>=0.19.3->transformers) (4.10.0)\n",
      "Requirement already satisfied: charset-normalizer<4,>=2 in /home/kvshetenex/anaconda3/envs/streamlit_fhir_rag_e2e/lib/python3.10/site-packages (from requests->transformers) (3.3.2)\n",
      "Requirement already satisfied: idna<4,>=2.5 in /home/kvshetenex/anaconda3/envs/streamlit_fhir_rag_e2e/lib/python3.10/site-packages (from requests->transformers) (3.6)\n",
      "Requirement already satisfied: urllib3<3,>=1.21.1 in /home/kvshetenex/anaconda3/envs/streamlit_fhir_rag_e2e/lib/python3.10/site-packages (from requests->transformers) (2.2.1)\n",
      "Requirement already satisfied: certifi>=2017.4.17 in /home/kvshetenex/anaconda3/envs/streamlit_fhir_rag_e2e/lib/python3.10/site-packages (from requests->transformers) (2024.2.2)\n"
     ]
    }
   ],
   "source": [
    "!pip install llama-index\n",
    "!pip install transformers\n",
    "# !pip install hugg"
   ]
  },
  {
   "cell_type": "markdown",
   "id": "cad9e789f424c411",
   "metadata": {
    "collapsed": false
   },
   "source": [
    "I tried a couple of different models for doing the embedding, i.e. turning the flattened FHIR text into vectors. I would like to experement with others, but haven't had time. In the end, `BAAI/bge-large-en-v1.5` was too big for me to run on my local, so I did most of my testing with `BAAI/bge-small-en-v1.5`.\n"
   ]
  },
  {
   "cell_type": "markdown",
   "id": "cb8c8893",
   "metadata": {},
   "source": []
  },
  {
   "cell_type": "code",
   "execution_count": null,
   "id": "19aa8d04",
   "metadata": {},
   "outputs": [],
   "source": []
  },
  {
   "cell_type": "code",
   "execution_count": null,
   "id": "7a5ed3b3",
   "metadata": {},
   "outputs": [],
   "source": []
  },
  {
   "cell_type": "code",
   "execution_count": null,
   "id": "45b81237",
   "metadata": {},
   "outputs": [],
   "source": []
  },
  {
   "cell_type": "code",
   "execution_count": 10,
   "id": "3a47aefc7f6f832e",
   "metadata": {
    "collapsed": false
   },
   "outputs": [
    {
     "ename": "ModuleNotFoundError",
     "evalue": "No module named 'llama_index.embeddings.huggingface'",
     "output_type": "error",
     "traceback": [
      "\u001b[0;31m---------------------------------------------------------------------------\u001b[0m",
      "\u001b[0;31mModuleNotFoundError\u001b[0m                       Traceback (most recent call last)",
      "Cell \u001b[0;32mIn[10], line 1\u001b[0m\n\u001b[0;32m----> 1\u001b[0m \u001b[38;5;28;01mfrom\u001b[39;00m \u001b[38;5;21;01mllama_index\u001b[39;00m\u001b[38;5;21;01m.\u001b[39;00m\u001b[38;5;21;01membeddings\u001b[39;00m\u001b[38;5;21;01m.\u001b[39;00m\u001b[38;5;21;01mhuggingface\u001b[39;00m \u001b[38;5;28;01mimport\u001b[39;00m HuggingFaceEmbedding\n\u001b[1;32m      3\u001b[0m \u001b[38;5;66;03m# loads BAAI/bge-small-en\u001b[39;00m\n\u001b[1;32m      4\u001b[0m \u001b[38;5;66;03m# embed_model = HuggingFaceEmbedding()\u001b[39;00m\n\u001b[1;32m      6\u001b[0m embed_model \u001b[38;5;241m=\u001b[39m HuggingFaceEmbedding(model_name\u001b[38;5;241m=\u001b[39m\u001b[38;5;124m\"\u001b[39m\u001b[38;5;124mBAAI/bge-small-en-v1.5\u001b[39m\u001b[38;5;124m\"\u001b[39m)\n",
      "\u001b[0;31mModuleNotFoundError\u001b[0m: No module named 'llama_index.embeddings.huggingface'"
     ]
    }
   ],
   "source": [
    "from llama_index.embeddings.huggingface import HuggingFaceEmbedding\n",
    "\n",
    "# loads BAAI/bge-small-en\n",
    "# embed_model = HuggingFaceEmbedding()\n",
    "\n",
    "embed_model = HuggingFaceEmbedding(model_name=\"BAAI/bge-small-en-v1.5\")\n",
    "\n",
    "# embed_model = HuggingFaceEmbedding(model_name=\"BAAI/bge-large-en-v1.5\")\n",
    "\n",
    "# embed_model = HuggingFaceEmbedding(model_name=\"medicalai/ClinicalBERT\")"
   ]
  },
  {
   "cell_type": "code",
   "execution_count": null,
   "id": "61cf86c33ac94bbd",
   "metadata": {
    "collapsed": false
   },
   "outputs": [],
   "source": [
    "# This code is to play with embedding if desired. It is not needed and can remain commented out.\n",
    "\n",
    "# embeddings = embed_model.get_text_embedding(\"Hello World!\")\n",
    "# print(len(embeddings))\n",
    "# print(embeddings[:5])"
   ]
  },
  {
   "cell_type": "code",
   "execution_count": null,
   "id": "6328dbe457d3dcde",
   "metadata": {
    "collapsed": false
   },
   "outputs": [],
   "source": [
    "from llama_index.llms import Ollama\n",
    "\n",
    "# LLama 2 is running locally, using Ollama.\n",
    "llm = Ollama(model=\"llama2\")"
   ]
  },
  {
   "cell_type": "code",
   "execution_count": null,
   "id": "ec7523591bb7324a",
   "metadata": {
    "collapsed": false
   },
   "outputs": [],
   "source": [
    "# This is a test prompt, just to prove that Ollama is working. It can remain commented out.\n",
    "\n",
    "# resp = llm.complete(\"Who is Paul Graham?\")\n",
    "# print(resp)"
   ]
  },
  {
   "cell_type": "code",
   "execution_count": null,
   "id": "792169943ccb715",
   "metadata": {
    "collapsed": false
   },
   "outputs": [],
   "source": [
    "from llama_index import ServiceContext, VectorStoreIndex, SimpleDirectoryReader, SummaryIndex\n",
    "from llama_index import set_global_service_context\n",
    "\n",
    "service_context = ServiceContext.from_defaults(llm=llm, embed_model=embed_model)\n",
    "set_global_service_context(service_context)"
   ]
  },
  {
   "cell_type": "code",
   "execution_count": null,
   "id": "c1067bc55158f53b",
   "metadata": {
    "collapsed": false
   },
   "outputs": [],
   "source": [
    "# This code loads the flat FHIR text files. \n",
    "\n",
    "documents = SimpleDirectoryReader(flat_file_path).load_data()\n",
    "print(len(documents))"
   ]
  },
  {
   "cell_type": "code",
   "execution_count": null,
   "id": "10086bb49ca618b8",
   "metadata": {
    "collapsed": false
   },
   "outputs": [],
   "source": [
    "# Load those flat FHIR text files into the vector store.\n",
    "\n",
    "vector_index = VectorStoreIndex.from_documents(documents, show_progress=True)\n",
    "\n",
    "\n",
    "# if not os.path.exists(vector_store_file_path):\n",
    "#     os.mkdir(vector_store_file_path)\n",
    "# vector_index.vector_store.persist(f'{vector_store_file_path}/FHIR_RAG.vs')"
   ]
  },
  {
   "cell_type": "code",
   "execution_count": null,
   "id": "2dcde194f8d979e",
   "metadata": {
    "collapsed": false
   },
   "outputs": [],
   "source": [
    "# I tried to play with summary indexes, but it took too long to get a response on my machine. \n",
    "\n",
    "# summary_index = SummaryIndex.from_documents(documents)"
   ]
  },
  {
   "cell_type": "code",
   "execution_count": null,
   "id": "fe5a5f3a941b5afa",
   "metadata": {
    "collapsed": false
   },
   "outputs": [],
   "source": [
    "from llama_index.response.notebook_utils import display_response\n",
    "import logging\n",
    "import sys\n",
    "from IPython.core.display import Markdown\n",
    "\n",
    "logging.basicConfig(stream=sys.stdout, level=logging.INFO)\n",
    "logging.getLogger().addHandler(logging.StreamHandler(stream=sys.stdout))"
   ]
  },
  {
   "cell_type": "markdown",
   "id": "ab9003e241adaae4",
   "metadata": {
    "collapsed": false
   },
   "source": [
    "## Actually do RAG\n",
    "\n",
    "This is the code block that actually asks the questions of the LLM.\n",
    "\n",
    "In my tests, I used synthetic FHIR generated by [Synthea](https://github.com/synthetichealth/synthea/wiki/Basic-Setup-and-Running). I had Synthea generate two patients and so I asked questions about each patient. If you are looking to replicate this work, you will need to change the patient names to match what ever data you have available.\n"
   ]
  },
  {
   "cell_type": "code",
   "execution_count": null,
   "id": "ea468385e9d1c52a",
   "metadata": {
    "collapsed": false
   },
   "outputs": [],
   "source": [
    "def display_source_text(response):\n",
    "    for ind, source_node in enumerate(response.source_nodes):\n",
    "        display(Markdown(\"---\"))\n",
    "        display(Markdown(f\"**`Source Node {ind + 1}/{len(response.source_nodes)}`**\"))\n",
    "        text_md = (\n",
    "            f'**File:** {source_node.node.metadata[\"file_name\"]}<br>'\n",
    "            f'**Text:** {source_node.node.get_content().strip()}'\n",
    "        )\n",
    "        display(Markdown(text_md))\n",
    "\n",
    "\n",
    "def ask_question(index, response_mode, question, show_sources=False):\n",
    "    query_engine = index.as_query_engine(response_mode=response_mode, similarity_top_k=5)\n",
    "    response = query_engine.query(question)\n",
    "    display(Markdown(f'### Answer for {response_mode}'))\n",
    "    if show_sources:\n",
    "        display_source_text(response)\n",
    "    else:\n",
    "        display_response(response, show_source=False, show_metadata=False, show_source_metadata=False)\n",
    "\n",
    "\n",
    "def ask_question_all_modes(person, question):\n",
    "    display(Markdown(f'# Asking about {person}\\n<br>**Question:** {question}'))\n",
    "    ask_question(vector_index, 'no_text', question, show_sources=True)\n",
    "    ask_question(vector_index, 'simple_summarize', question)\n",
    "    ask_question(vector_index, 'compact', question)\n",
    "    ask_question(vector_index, 'refine', question)\n",
    "    ask_question(vector_index, 'tree_summarize', question)\n",
    "    ask_question(vector_index, 'accumulate', question)\n",
    "    ask_question(vector_index, 'compact_accumulate', question)\n",
    "\n",
    "\n",
    "ask_question_all_modes('Arnold',\n",
    "                       'What can you tell me about Arnold338 Wilkinson796 heart? For example, does he have hypertension?')\n",
    "ask_question_all_modes('Ashley', 'What can you tell me about Ashley34 Bergstrom287 allergies?')"
   ]
  },
  {
   "cell_type": "code",
   "execution_count": null,
   "id": "34a5b06a",
   "metadata": {},
   "outputs": [],
   "source": []
  }
 ],
 "metadata": {
  "kernelspec": {
   "display_name": "Python 3 (ipykernel)",
   "language": "python",
   "name": "python3"
  },
  "language_info": {
   "codemirror_mode": {
    "name": "ipython",
    "version": 3
   },
   "file_extension": ".py",
   "mimetype": "text/x-python",
   "name": "python",
   "nbconvert_exporter": "python",
   "pygments_lexer": "ipython3",
   "version": "3.10.13"
  }
 },
 "nbformat": 4,
 "nbformat_minor": 5
}
